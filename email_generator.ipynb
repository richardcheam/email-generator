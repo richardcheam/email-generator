{
 "cells": [
  {
   "cell_type": "markdown",
   "id": "7eca38d1",
   "metadata": {},
   "source": [
    "# Autoamted Email Generator System\n",
    "## For Job Application"
   ]
  },
  {
   "cell_type": "markdown",
   "id": "93ade685",
   "metadata": {},
   "source": [
    "### Call API for LLM model using groqcloud "
   ]
  },
  {
   "cell_type": "code",
   "execution_count": null,
   "id": "0eccd20e",
   "metadata": {},
   "outputs": [],
   "source": [
    "from langchain_groq import ChatGroq\n",
    "\n",
    "# init LLM \n",
    "llm = ChatGroq(\n",
    "    temperature=0, \n",
    "    groq_api_key='input_API_key',  #groqcloud\n",
    "    model_name=\"llama-3.3-70b-versatile\"\n",
    ")"
   ]
  },
  {
   "cell_type": "markdown",
   "id": "bc58977d",
   "metadata": {},
   "source": [
    "### Job Web Scrapping "
   ]
  },
  {
   "cell_type": "code",
   "execution_count": null,
   "id": "90d33612",
   "metadata": {},
   "outputs": [
    {
     "name": "stderr",
     "output_type": "stream",
     "text": [
      "USER_AGENT environment variable not set, consider setting it to identify your requests.\n"
     ]
    },
    {
     "name": "stdout",
     "output_type": "stream",
     "text": [
      "Mistral AI - Applied AI Engineer - Paris (Internship)Applied AI Engineer - Paris (Internship)ParisSolutions /On-siteApply for this jobAs an Applied Engineering Intern, you will work closely with our Applied AI Engineering team to facilitate the adoption of Mistral AI products among customers and collaborate with them to address complex technical challenges. This role is based in Paris, with an internship duration of 3 to 6 months. We are open to CIFRE programs as a continuation after the internship.Key ResponsibilitiesContribute to the deployment of state-of-the-art GenAI applications, driving technological transformation with our customers.Collaborate with researchers, AI engineers, and product engineers on complex customer projects.Work with the product and science team to continuously improve our product and model capabilities based on customer feedback.You may be a good fit ifYou are currently pursuing a degree in AI, data science, or a related field from a tier 1 engineering school or university.You have strong programming skills in Python.You are familiar with machine learning algorithms and natural language processing techniques.You hold basic understanding of MLOps and deploying machine learning use cases.You have good communication skills with the ability to explain technical concepts to both technical and non-technical audiences.Ideally you haveExperience with deep learning frameworks such as PyTorch.Familiarity with version control systems (e.g., Git) and Linux shell environment.Experience working in HPC EnvironmentsPublication record in AI or a related fieldBenefitsðŸ¥• Food : Daily lunch vouchersðŸ¥Ž Sport : Monthly contribution to a Gympass subscriptionðŸš´ Transportation : Monthly contribution to a mobility passApply for this jobMistral AI Home PageJobs powered by \n"
     ]
    }
   ],
   "source": [
    "from langchain_community.document_loaders import WebBaseLoader\n",
    "# web scrapping from career webpage\n",
    "job_url = \"input_url\"\n",
    "loader = WebBaseLoader(job_url)\n",
    "page_data = loader.load().pop().page_content\n",
    "print(page_data)"
   ]
  },
  {
   "cell_type": "markdown",
   "id": "bc093085",
   "metadata": {},
   "source": [
    "### Prompt LLM to get relevant information"
   ]
  },
  {
   "cell_type": "code",
   "execution_count": 3,
   "id": "85c89a57",
   "metadata": {},
   "outputs": [
    {
     "name": "stdout",
     "output_type": "stream",
     "text": [
      "```json\n",
      "{\n",
      "  \"role\": \"Applied AI Engineer\",\n",
      "  \"experience\": \"Internship\",\n",
      "  \"skills\": [\n",
      "    \"Python\",\n",
      "    \"Machine learning algorithms\",\n",
      "    \"Natural language processing techniques\",\n",
      "    \"MLOps\",\n",
      "    \"Deep learning frameworks (e.g., PyTorch)\",\n",
      "    \"Version control systems (e.g., Git)\",\n",
      "    \"Linux shell environment\",\n",
      "    \"HPC Environments\"\n",
      "  ],\n",
      "  \"description\": \"Contribute to the deployment of state-of-the-art GenAI applications, driving technological transformation with customers. Collaborate with researchers, AI engineers, and product engineers on complex customer projects. Work with the product and science team to continuously improve product and model capabilities based on customer feedback.\"\n",
      "}\n",
      "```\n"
     ]
    }
   ],
   "source": [
    "from langchain_core.prompts import PromptTemplate\n",
    "\n",
    "# init prompt to get relevant info\n",
    "prompt_extract = PromptTemplate.from_template(\n",
    "        \"\"\"\n",
    "        ### SCRAPED TEXT FROM WEBSITE:\n",
    "        {page_data}\n",
    "        ### INSTRUCTION:\n",
    "        The scraped text is from the career's page of a website.\n",
    "        Your job is to extract the job postings and return them in JSON format containing the \n",
    "        following keys: `role`, `experience`, `skills` and `description`.\n",
    "        Only return the valid JSON.\n",
    "        ### VALID JSON (NO PREAMBLE):    \n",
    "        \"\"\"\n",
    ")\n",
    "# getting prompt then pass it to model \n",
    "chain_extract = prompt_extract | llm \n",
    "res = chain_extract.invoke(input={'page_data':page_data})\n",
    "print(res.content) #this is str"
   ]
  },
  {
   "cell_type": "markdown",
   "id": "1fe5cc99",
   "metadata": {},
   "source": [
    "### Process result"
   ]
  },
  {
   "cell_type": "code",
   "execution_count": 4,
   "id": "5415fd54",
   "metadata": {},
   "outputs": [
    {
     "data": {
      "text/plain": [
       "{'role': 'Applied AI Engineer',\n",
       " 'experience': 'Internship',\n",
       " 'skills': ['Python',\n",
       "  'Machine learning algorithms',\n",
       "  'Natural language processing techniques',\n",
       "  'MLOps',\n",
       "  'Deep learning frameworks (e.g., PyTorch)',\n",
       "  'Version control systems (e.g., Git)',\n",
       "  'Linux shell environment',\n",
       "  'HPC Environments'],\n",
       " 'description': 'Contribute to the deployment of state-of-the-art GenAI applications, driving technological transformation with customers. Collaborate with researchers, AI engineers, and product engineers on complex customer projects. Work with the product and science team to continuously improve product and model capabilities based on customer feedback.'}"
      ]
     },
     "execution_count": 4,
     "metadata": {},
     "output_type": "execute_result"
    }
   ],
   "source": [
    "from langchain_core.output_parsers import JsonOutputParser\n",
    "# convert text to json\n",
    "json_parser = JsonOutputParser()\n",
    "json_res = json_parser.parse(res.content)\n",
    "json_res"
   ]
  },
  {
   "cell_type": "code",
   "execution_count": 5,
   "id": "1e8a0f74",
   "metadata": {},
   "outputs": [
    {
     "data": {
      "text/html": [
       "<div>\n",
       "<style scoped>\n",
       "    .dataframe tbody tr th:only-of-type {\n",
       "        vertical-align: middle;\n",
       "    }\n",
       "\n",
       "    .dataframe tbody tr th {\n",
       "        vertical-align: top;\n",
       "    }\n",
       "\n",
       "    .dataframe thead th {\n",
       "        text-align: right;\n",
       "    }\n",
       "</style>\n",
       "<table border=\"1\" class=\"dataframe\">\n",
       "  <thead>\n",
       "    <tr style=\"text-align: right;\">\n",
       "      <th></th>\n",
       "      <th>Techstack</th>\n",
       "      <th>Links</th>\n",
       "    </tr>\n",
       "  </thead>\n",
       "  <tbody>\n",
       "    <tr>\n",
       "      <th>0</th>\n",
       "      <td>Vue.js, Laravel, PostgreSQL</td>\n",
       "      <td>https://richardcheam.github.io/1Ainternship</td>\n",
       "    </tr>\n",
       "    <tr>\n",
       "      <th>1</th>\n",
       "      <td>Python, PySpark, Excel, draw.io</td>\n",
       "      <td>https://richardcheam.github.io/2Ainternship</td>\n",
       "    </tr>\n",
       "    <tr>\n",
       "      <th>2</th>\n",
       "      <td>R, survival, ggplot</td>\n",
       "      <td>https://richardcheam.github.io/project/HIV-sur...</td>\n",
       "    </tr>\n",
       "    <tr>\n",
       "      <th>3</th>\n",
       "      <td>Machine Learning, Python, PyTorch</td>\n",
       "      <td>https://richardcheam.github.io/project/deep-le...</td>\n",
       "    </tr>\n",
       "    <tr>\n",
       "      <th>4</th>\n",
       "      <td>Computer Vision, YOLO, OpenCV</td>\n",
       "      <td>https://richardcheam.github.io/project/footbal...</td>\n",
       "    </tr>\n",
       "    <tr>\n",
       "      <th>5</th>\n",
       "      <td>LLM, RAG, VertexAI, GCP, Docker</td>\n",
       "      <td>https://richardcheam.github.io/project/llm</td>\n",
       "    </tr>\n",
       "  </tbody>\n",
       "</table>\n",
       "</div>"
      ],
      "text/plain": [
       "                           Techstack  \\\n",
       "0        Vue.js, Laravel, PostgreSQL   \n",
       "1    Python, PySpark, Excel, draw.io   \n",
       "2                R, survival, ggplot   \n",
       "3  Machine Learning, Python, PyTorch   \n",
       "4      Computer Vision, YOLO, OpenCV   \n",
       "5    LLM, RAG, VertexAI, GCP, Docker   \n",
       "\n",
       "                                               Links  \n",
       "0        https://richardcheam.github.io/1Ainternship  \n",
       "1        https://richardcheam.github.io/2Ainternship  \n",
       "2  https://richardcheam.github.io/project/HIV-sur...  \n",
       "3  https://richardcheam.github.io/project/deep-le...  \n",
       "4  https://richardcheam.github.io/project/footbal...  \n",
       "5         https://richardcheam.github.io/project/llm  "
      ]
     },
     "execution_count": 5,
     "metadata": {},
     "output_type": "execute_result"
    }
   ],
   "source": [
    "import pandas as pd\n",
    "\n",
    "df = pd.read_csv(\"portfolio.csv\")\n",
    "df"
   ]
  },
  {
   "cell_type": "markdown",
   "id": "ed3f15ae",
   "metadata": {},
   "source": [
    "### Vector database"
   ]
  },
  {
   "cell_type": "code",
   "execution_count": 6,
   "id": "f7e888d4",
   "metadata": {},
   "outputs": [],
   "source": [
    "import uuid\n",
    "import chromadb\n",
    "\n",
    "# PersistentClient will create db on disk physically \n",
    "student = chromadb.PersistentClient('vectorstore')\n",
    "collection = student.get_or_create_collection(name=\"portfolio\")\n",
    "\n",
    "if not collection.count():\n",
    "    for _, row in df.iterrows():\n",
    "        collection.add(documents=row[\"Techstack\"],\n",
    "                       metadatas={\"links\": row[\"Links\"]},\n",
    "                       ids=[str(uuid.uuid4())])"
   ]
  },
  {
   "cell_type": "code",
   "execution_count": 7,
   "id": "39ad2fa2",
   "metadata": {},
   "outputs": [],
   "source": [
    "job = json_res\n",
    "# get all portfolio links that match the job skills for email generator\n",
    "links = collection.query(query_texts=job['skills'], n_results=2).get('metadatas', [])"
   ]
  },
  {
   "cell_type": "markdown",
   "id": "8f29ee36",
   "metadata": {},
   "source": [
    "### Prompt LLM to write mail"
   ]
  },
  {
   "cell_type": "code",
   "execution_count": 8,
   "id": "64a97dd2",
   "metadata": {},
   "outputs": [
    {
     "name": "stdout",
     "output_type": "stream",
     "text": [
      "Subject: Application for Applied AI Engineer Internship\n",
      "\n",
      "Dear Hiring Manager,\n",
      "\n",
      "I am excited to apply for the Applied AI Engineer internship at your esteemed organization. As a student pursuing a double degree in Data Science at Paris-Saclay University, I am confident that my skills and experience make me an ideal candidate for this role.\n",
      "\n",
      "Throughout my studies, I have acquired a strong foundation in machine learning, deep learning, and natural language processing techniques. I have worked on numerous projects that demonstrate my capabilities in these areas. For instance, my project on deep learning (https://richardcheam.github.io/project/deep-learning) showcases my understanding of deep learning frameworks and my ability to apply them to real-world problems. Additionally, my project on large language models (https://richardcheam.github.io/project/llm) highlights my knowledge of natural language processing techniques and my ability to work with complex models.\n",
      "\n",
      "I am also proficient in Python, Git, and Linux shell environment, which are essential skills for this role. My experience with version control systems and high-performance computing (HPC) environments will enable me to collaborate effectively with your team and contribute to the deployment of state-of-the-art GenAI applications.\n",
      "\n",
      "As a detail-oriented and organized individual, I am confident that I can work effectively with researchers, AI engineers, and product engineers on complex customer projects. My strong communication skills and ability to work in a team will enable me to collaborate with the product and science team to continuously improve product and model capabilities based on customer feedback.\n",
      "\n",
      "Some of my notable projects include:\n",
      "\n",
      "* Deep Learning: https://richardcheam.github.io/project/deep-learning\n",
      "* Large Language Models: https://richardcheam.github.io/project/llm\n",
      "* Football Analysis: https://richardcheam.github.io/project/football-analysis\n",
      "* HIV Survival Analysis: https://richardcheam.github.io/project/HIV-survival-analysis\n",
      "\n",
      "These projects demonstrate my ability to apply machine learning and deep learning concepts to real-world problems and my passion for working on complex projects.\n",
      "\n",
      "Thank you for considering my application. I am excited about the opportunity to contribute to the deployment of state-of-the-art GenAI applications and work with your team to drive technological transformation with customers. I look forward to discussing my application and how I can contribute to your organization.\n",
      "\n",
      "Best regards,\n",
      "Bob\n"
     ]
    }
   ],
   "source": [
    "# prompt LLM to write email\n",
    "prompt_email = PromptTemplate.from_template(\n",
    "        \"\"\"\n",
    "        ### JOB DESCRIPTION:\n",
    "        {job_description}\n",
    "\n",
    "        ### INSTRUCTION:\n",
    "        You are a student who is pursuing a double degree, Engineer's degree and Master's degree, in Data Science at Paris-Saclay University.\n",
    "        Throughout your studies, you have acquired different skills and have done numerous projects related to machine learning, deep learning, and so on.\n",
    "        Right now, you are looking for an internship. \n",
    "        So, your job is to write a email to the recruiter as an application regarding the internship mentioned above describing your capability in fulfilling their needs or roles.\n",
    "        Also add the most relevant ones from the following links to showcase your portfolio: {link_list}\n",
    "        Remember you are a student applying for internship. \n",
    "        Do not provide a preamble.\n",
    "        Also, your name is Bob\n",
    "        ### EMAIL (NO PREAMBLE):\n",
    "\n",
    "        \"\"\"\n",
    "        )\n",
    "\n",
    "# pass prompt to llm\n",
    "chain_email = prompt_email | llm\n",
    "\n",
    "# pass {job} and {links} vars to mail\n",
    "res = chain_email.invoke({\"job_description\": str(job), \"link_list\": links})\n",
    "print(res.content)"
   ]
  }
 ],
 "metadata": {
  "kernelspec": {
   "display_name": "email-gen",
   "language": "python",
   "name": "python3"
  },
  "language_info": {
   "codemirror_mode": {
    "name": "ipython",
    "version": 3
   },
   "file_extension": ".py",
   "mimetype": "text/x-python",
   "name": "python",
   "nbconvert_exporter": "python",
   "pygments_lexer": "ipython3",
   "version": "3.10.16"
  }
 },
 "nbformat": 4,
 "nbformat_minor": 5
}
